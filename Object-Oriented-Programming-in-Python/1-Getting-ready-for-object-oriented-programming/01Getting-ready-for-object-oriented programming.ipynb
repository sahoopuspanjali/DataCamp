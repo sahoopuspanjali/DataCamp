{
 "cells": [
  {
   "cell_type": "markdown",
   "metadata": {},
   "source": [
    "01Creating functions\n",
    "\n",
    "In this exercise, we will review functions, as they are key building blocks of object-oriented programs.\n",
    "\n",
    "For this, we will create a simple function average_numbers() which averages a list of numbers. Remember that lists are a basic data type in Python that we can build using the [] bracket notation.\n",
    "\n",
    "Here is an example of a function that returns the square of an integer:\n",
    "\n",
    "def square_function(x):\n",
    "    x_squared =  x**2\n",
    "    return x_squared"
   ]
  },
  {
   "cell_type": "code",
   "execution_count": 1,
   "metadata": {},
   "outputs": [
    {
     "name": "stdout",
     "output_type": "stream",
     "text": [
      "3.5\n"
     ]
    }
   ],
   "source": [
    "# Create function that returns the average of an integer list\n",
    "def average_numbers(num_list): \n",
    "    avg = sum(num_list)/float(len(num_list)) # divide by length of list\n",
    "    return avg\n",
    "\n",
    "# Take the average of a list: my_avg\n",
    "my_avg = average_numbers([1, 2, 3, 4, 5, 6])\n",
    "\n",
    "# Print out my_avg\n",
    "print(my_avg)"
   ]
  },
  {
   "cell_type": "markdown",
   "metadata": {},
   "source": [
    "02Creating a complex data type\n",
    "\n",
    "In this exercise, we'll take a closer look at the flexibility of the list data type, by creating a list of lists.\n",
    "\n",
    "In Python, lists usually look like our list example below, and can be made up of either simple strings, integers, or a combination of both.\n",
    "\n",
    "list = [1,2]\n",
    "In creating a list of lists, we're building up to the concept of a NumPy array."
   ]
  },
  {
   "cell_type": "code",
   "execution_count": 2,
   "metadata": {},
   "outputs": [
    {
     "name": "stdout",
     "output_type": "stream",
     "text": [
      "[[1, 2, 3, 4], [5, 6, 7, 8]]\n"
     ]
    }
   ],
   "source": [
    "# Create a list that contains two lists: matrix\n",
    "matrix = [[1,2,3,4], [5,6,7,8]]\n",
    "\n",
    "# Print the matrix list\n",
    "print(matrix)"
   ]
  },
  {
   "cell_type": "markdown",
   "metadata": {},
   "source": [
    "03-Create a function that returns a NumPy array\n",
    "\n",
    "In this exercise, we'll continue working with the numpy package and our previous structures.\n",
    "\n",
    "We'll create a NumPy array of the float (numerical) data type so that we can work with a multi-dimensional data objects, much like columns and rows in a spreadsheet."
   ]
  },
  {
   "cell_type": "code",
   "execution_count": 3,
   "metadata": {},
   "outputs": [
    {
     "name": "stdout",
     "output_type": "stream",
     "text": [
      "[[1. 2. 3. 4.]\n",
      " [5. 6. 7. 8.]]\n"
     ]
    }
   ],
   "source": [
    "# Import numpy as np\n",
    "import numpy as np\n",
    "\n",
    "# List input: my_matrix\n",
    "my_matrix = [[1,2,3,4], [5,6,7,8]] \n",
    "\n",
    "# Function that converts lists to arrays: return_array\n",
    "def return_array(matrix):\n",
    "    array = np.array(matrix, dtype = float)\n",
    "    return array\n",
    "    \n",
    "# Call return_array on my_matrix, and print the output\n",
    "print(return_array(my_matrix))"
   ]
  },
  {
   "cell_type": "markdown",
   "metadata": {},
   "source": [
    "04-Creating a class\n",
    "\n",
    "We're going to be working on building a class, which is a way to organize functions and variables in Python. To start with, let's look at the simplest possible way to create a class."
   ]
  },
  {
   "cell_type": "code",
   "execution_count": 4,
   "metadata": {},
   "outputs": [],
   "source": [
    "# Create a class: DataShell\n",
    "class DataShell: \n",
    "    pass"
   ]
  },
  {
   "cell_type": "code",
   "execution_count": null,
   "metadata": {},
   "outputs": [],
   "source": []
  }
 ],
 "metadata": {
  "kernelspec": {
   "display_name": "Python 3",
   "language": "python",
   "name": "python3"
  },
  "language_info": {
   "codemirror_mode": {
    "name": "ipython",
    "version": 3
   },
   "file_extension": ".py",
   "mimetype": "text/x-python",
   "name": "python",
   "nbconvert_exporter": "python",
   "pygments_lexer": "ipython3",
   "version": "3.6.9"
  }
 },
 "nbformat": 4,
 "nbformat_minor": 2
}
