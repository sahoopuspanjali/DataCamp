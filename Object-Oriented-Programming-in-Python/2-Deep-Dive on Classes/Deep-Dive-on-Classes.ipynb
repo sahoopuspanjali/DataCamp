{
 "cells": [
  {
   "cell_type": "markdown",
   "metadata": {},
   "source": [
    "01-Object: Instance of a Class\n",
    "    \n",
    "As we learned earlier, a class is like a blueprint: we can make many copies of our class.\n",
    "\n",
    "When we do this, we say that we are instantiating our class. These instances are called objects.\n",
    "\n",
    "Here is an example of class instantiation:\n",
    "\n",
    "object_name = ClassName()"
   ]
  },
  {
   "cell_type": "code",
   "execution_count": 1,
   "metadata": {},
   "outputs": [
    {
     "name": "stdout",
     "output_type": "stream",
     "text": [
      "<__main__.DataShell object at 0x000000E190040908>\n"
     ]
    }
   ],
   "source": [
    "# Create empty class: DataShell\n",
    "class DataShell:\n",
    "  \n",
    "    # Pass statement\n",
    "    pass\n",
    "# Instantiate DataShell: my_data_shell\n",
    "my_data_shell = DataShell()\n",
    "\n",
    "# Print my_data_shell\n",
    "print(my_data_shell)"
   ]
  },
  {
   "cell_type": "markdown",
   "metadata": {},
   "source": [
    "02 The Init Method\n",
    "\n",
    "Now it's time to explore the special __init__ method!\n",
    "\n",
    "__init__ is an initialization method used to construct class instances in custom ways. In this exercise we will simply introduce the utilization of the method, and in subsequent ones we will do fancier things."
   ]
  },
  {
   "cell_type": "code",
   "execution_count": 2,
   "metadata": {},
   "outputs": [
    {
     "name": "stdout",
     "output_type": "stream",
     "text": [
      "<__main__.DataShell object at 0x000000E19005E0F0>\n"
     ]
    }
   ],
   "source": [
    "# Create class: DataShell\n",
    "class DataShell:\n",
    "  \n",
    "\t# Initialize class with self argument\n",
    "    def __init__(self):\n",
    "      \n",
    "        # Pass statement\n",
    "        pass\n",
    "\n",
    "# Instantiate DataShell: my_data_shell\n",
    "my_data_shell = DataShell()\n",
    "\n",
    "# Print my_data_shell\n",
    "print(my_data_shell)"
   ]
  },
  {
   "cell_type": "markdown",
   "metadata": {},
   "source": [
    "03 Instance Variables\n",
    "\n",
    "Class instances are useful in that we can store values in them at the time of instantiation. We store these values in instance variables. This means that we can have many instances of the same class whose instance variables hold different values!"
   ]
  },
  {
   "cell_type": "code",
   "execution_count": 3,
   "metadata": {},
   "outputs": [
    {
     "name": "stdout",
     "output_type": "stream",
     "text": [
      "10\n"
     ]
    }
   ],
   "source": [
    "# Create class: DataShell\n",
    "class DataShell:\n",
    "  \n",
    "\t# Initialize class with self and integerInput arguments\n",
    "    def __init__(self, integerInput):\n",
    "      \n",
    "\t\t# Set data as instance variable, and assign the value of integerInput\n",
    "        self.data = integerInput\n",
    "\n",
    "# Declare variable x with value of 10\n",
    "x = 10      \n",
    "\n",
    "# Instantiate DataShell passing x as argument: my_data_shell\n",
    "my_data_shell = DataShell(x)\n",
    "\n",
    "# Print my_data_shell\n",
    "print(my_data_shell.data)"
   ]
  },
  {
   "cell_type": "markdown",
   "metadata": {},
   "source": [
    "04 Multiple Instance Variables\n",
    "\n",
    "We are not limited to declaring only one instance variable; in fact, we can declare many!\n",
    "\n",
    "In this exercise we will declare two instance variables: identifier and data. Their values will be specified by the values passed to the initialization method, as before."
   ]
  },
  {
   "cell_type": "code",
   "execution_count": 4,
   "metadata": {},
   "outputs": [
    {
     "name": "stdout",
     "output_type": "stream",
     "text": [
      "100\n",
      "[1, 2, 3, 4, 5]\n"
     ]
    }
   ],
   "source": [
    "# Create class: DataShell\n",
    "class DataShell:\n",
    "  \n",
    "\t# Initialize class with self, identifier and data arguments\n",
    "    def __init__(self, identifier, data):\n",
    "      \n",
    "\t\t# Set identifier and data as instance variables, assigning value of input arguments\n",
    "        self.identifier = identifier\n",
    "        self.data = data\n",
    "\n",
    "# Declare variable x with value of 100, and y with list of integers from 1 to 5\n",
    "x = 100\n",
    "y = [1, 2, 3, 4, 5]\n",
    "\n",
    "# Instantiate DataShell passing x and y as arguments: my_data_shell\n",
    "my_data_shell = DataShell(x, y)\n",
    "\n",
    "# Print my_data_shell.identifier\n",
    "print(my_data_shell.identifier)\n",
    "\n",
    "# Print my_data_shell.data\n",
    "print(my_data_shell.data)"
   ]
  },
  {
   "cell_type": "markdown",
   "metadata": {},
   "source": [
    "05Class Variables\n",
    "\n",
    "We saw that we can specify different instance variables.\n",
    "\n",
    "But, what if we want any instance of a class to hold the same value for a specific variable? Enter class variables.\n",
    "\n",
    "Class variables must not be specified at the time of instantiation and instead, are declared/specified at the class definition phase."
   ]
  },
  {
   "cell_type": "code",
   "execution_count": 5,
   "metadata": {},
   "outputs": [
    {
     "name": "stdout",
     "output_type": "stream",
     "text": [
      "DataShell\n"
     ]
    }
   ],
   "source": [
    "# Create class: DataShell\n",
    "class DataShell:\n",
    "  \n",
    "    # Declare a class variable family, and assign value of \"DataShell\"\n",
    "    family = \"DataShell\"\n",
    "    \n",
    "    # Initialize class with self, identifier arguments\n",
    "    def __init__(self, identifier):\n",
    "      \n",
    "        # Set identifier as instance variable of input argument\n",
    "        self.identifier = identifier\n",
    "\n",
    "# Declare variable x with value of 100\n",
    "x = 100\n",
    "\n",
    "# Instantiate DataShell passing x as argument: my_data_shell\n",
    "my_data_shell = DataShell(x)\n",
    "\n",
    "# Print my_data_shell class variable family\n",
    "print(my_data_shell.family)"
   ]
  },
  {
   "cell_type": "markdown",
   "metadata": {},
   "source": [
    "06-Overriding Class Variables\n",
    "\n",
    "Sometimes our object instances have class variables whose values are not correct, and hence, not useful. For this reason it makes sense to modify our object's class variables.\n",
    "\n",
    "In this exercise, we will do just that: override class variables with values of our own!"
   ]
  },
  {
   "cell_type": "code",
   "execution_count": 6,
   "metadata": {},
   "outputs": [
    {
     "name": "stdout",
     "output_type": "stream",
     "text": [
      "DataShell\n",
      "NotDataShell\n"
     ]
    }
   ],
   "source": [
    "# Create class: DataShell\n",
    "class DataShell:\n",
    "  \n",
    "    # Declare a class variable family, and assign value of \"DataShell\"\n",
    "    family = \"DataShell\"\n",
    "    \n",
    "    # Initialize class with self, identifier arguments\n",
    "    def __init__(self, identifier):\n",
    "      \n",
    "        # Set identifier as instance variables, assigning value of input arguments\n",
    "        self.identifier = identifier\n",
    "\n",
    "# Declare variable x with value of 100\n",
    "x = 100\n",
    "\n",
    "# Instantiate DataShell passing x and y as arguments: my_data_shell\n",
    "my_data_shell = DataShell(x)\n",
    "\n",
    "# Print my_data_shell class variable family\n",
    "print(my_data_shell.family)\n",
    "\n",
    "# Override the my_data_shell.family value with \"NotDataShell\"\n",
    "my_data_shell.family = \"NotDataShell\"\n",
    "\n",
    "# Print my_data_shell class variable family once again\n",
    "print(my_data_shell.family)"
   ]
  },
  {
   "cell_type": "markdown",
   "metadata": {},
   "source": [
    "07-Methods I\n",
    "\n",
    "Not only are we able to declare both instance variables and class variables in our objects, we can also cook functions right into our objects as well. These object-contained functions are called methods."
   ]
  },
  {
   "cell_type": "code",
   "execution_count": 7,
   "metadata": {},
   "outputs": [
    {
     "name": "stdout",
     "output_type": "stream",
     "text": [
      "You just executed a class method!\n"
     ]
    }
   ],
   "source": [
    "# Create class: DataShell\n",
    "class DataShell:\n",
    "  \n",
    "\t# Initialize class with self argument\n",
    "    def __init__(self):\n",
    "        pass\n",
    "      \n",
    "\t# Define class method which takes self argument: print_static\n",
    "    def print_static(self):\n",
    "        # Print string\n",
    "        print(\"You just executed a class method!\")\n",
    "        \n",
    "# Instantiate DataShell taking no arguments: my_data_shell\n",
    "my_data_shell = DataShell()\n",
    "\n",
    "# Call the print_static method of your newly created object\n",
    "my_data_shell.print_static()"
   ]
  },
  {
   "cell_type": "markdown",
   "metadata": {},
   "source": [
    "08-Methods II\n",
    "\n",
    "In the previous exercise our print_static() method was kind of boring.\n",
    "\n",
    "We can do more interesting things with our objects' methods. For example, we can interact with our objects' data. In this exercise we will declare a method that prints the value of one of our instance variables."
   ]
  },
  {
   "cell_type": "code",
   "execution_count": 8,
   "metadata": {},
   "outputs": [
    {
     "name": "stdout",
     "output_type": "stream",
     "text": [
      "[1, 2, 3, 4, 5, 6, 7, 8, 9, 10]\n"
     ]
    }
   ],
   "source": [
    "# Create class: DataShell\n",
    "class DataShell:\n",
    "  \n",
    "\t# Initialize class with self and dataList as arguments\n",
    "    def __init__(self, dataList):\n",
    "      \t# Set data as instance variable, and assign it the value of dataList\n",
    "        self.data = dataList\n",
    "        \n",
    "\t# Define class method which takes self argument: show\n",
    "    def show(self):\n",
    "        # Print the instance variable data\n",
    "        print(self.data)\n",
    "\n",
    "# Declare variable with list of integers from 1 to 10: integer_list   \n",
    "integer_list = [1, 2, 3, 4, 5, 6, 7, 8, 9, 10]\n",
    "        \n",
    "# Instantiate DataShell taking integer_list as argument: my_data_shell\n",
    "my_data_shell = DataShell(integer_list)\n",
    "\n",
    "# Call the show method of your newly created object\n",
    "my_data_shell.show()"
   ]
  },
  {
   "cell_type": "markdown",
   "metadata": {},
   "source": [
    "09 Methods III\n",
    "\n",
    "In the last exercise our method simply printed out the value of instance variables.\n",
    "\n",
    "In this one, we'll do something more interesting. We will add another method, avg(), which takes a list of integers, calculates the average value, and prints it out. To make things even more interesting, the list of integers for which avg() does this operations, is one of our object's instance variables.\n",
    "\n",
    "This means that our object can not only store data, but also can store procedures it can execute on its own data. Awesome.\n",
    "\n",
    "Note that the variable integer_list has already been loaded for you."
   ]
  },
  {
   "cell_type": "code",
   "execution_count": 9,
   "metadata": {},
   "outputs": [
    {
     "name": "stdout",
     "output_type": "stream",
     "text": [
      "[1, 2, 3, 4, 5, 6, 7, 8, 9, 10]\n",
      "5.5\n"
     ]
    }
   ],
   "source": [
    "# Create class: DataShell\n",
    "class DataShell:\n",
    "  \n",
    "\t# Initialize class with self and dataList as arguments\n",
    "    def __init__(self, dataList):\n",
    "      \t# Set data as instance variable, and assign it the value of dataList\n",
    "        self.data = dataList\n",
    "        \n",
    "\t# Define method that prints data: show\n",
    "    def show(self):\n",
    "        print(self.data)\n",
    "        \n",
    "    # Define method that prints average of data: avg \n",
    "    def avg(self):\n",
    "        # Declare avg and assign it the average of data\n",
    "        avg = sum(self.data)/float(len(self.data))\n",
    "        # Print avg\n",
    "        print(avg)\n",
    "        \n",
    "# Instantiate DataShell taking integer_list as argument: my_data_shell\n",
    "my_data_shell = DataShell(integer_list)\n",
    "\n",
    "# Call the show and avg methods of your newly created object\n",
    "my_data_shell.show()\n",
    "my_data_shell.avg()"
   ]
  },
  {
   "cell_type": "code",
   "execution_count": null,
   "metadata": {},
   "outputs": [],
   "source": []
  }
 ],
 "metadata": {
  "kernelspec": {
   "display_name": "Python 3",
   "language": "python",
   "name": "python3"
  },
  "language_info": {
   "codemirror_mode": {
    "name": "ipython",
    "version": 3
   },
   "file_extension": ".py",
   "mimetype": "text/x-python",
   "name": "python",
   "nbconvert_exporter": "python",
   "pygments_lexer": "ipython3",
   "version": "3.6.9"
  }
 },
 "nbformat": 4,
 "nbformat_minor": 2
}
